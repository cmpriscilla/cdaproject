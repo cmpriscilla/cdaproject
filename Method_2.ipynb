{
 "cells": [
  {
   "cell_type": "markdown",
   "metadata": {},
   "source": [
    "Models to test:\n",
    "- Lin reg. with all features\n",
    "- Perform VIF, then Lin reg. with features where VIF < 5\n",
    "- LASSO\n",
    "- Ridge regression\n",
    "- Elastic net\n",
    "- SVM\n",
    "- Random forest\n",
    "- CART\n",
    "- NN\n",
    "- AdaBoost"
   ]
  },
  {
   "cell_type": "code",
   "execution_count": 19,
   "metadata": {},
   "outputs": [],
   "source": [
    "import pandas as pd\n",
    "import numpy as np\n",
    "import matplotlib.pyplot as plt\n",
    "import random\n",
    "\n",
    "random.seed(123456)\n",
    "np.random.seed(123456)\n",
    "\n",
    "# Read in data, drop first row since it doesn't have 1st order time series data\n",
    "weather_df = pd.read_csv(\"weather-northern-clean.csv\")\n",
    "weather_df.drop(labels=0, axis=0, inplace=True)\n",
    "weather_df.drop(columns=['Date', 'RainTomorrow'], inplace=True)\n",
    "weather_df.dropna(inplace=True)\n",
    "weather_df.loc[(weather_df['RainToday']=='Yes'),'RainToday'] = 1\n",
    "weather_df.loc[(weather_df['RainToday']=='No'),'RainToday'] = 0\n",
    "\n",
    "# Scale data, split into training and test sets\n",
    "from sklearn.preprocessing import StandardScaler\n",
    "from sklearn.model_selection import train_test_split, cross_val_score\n",
    "from sklearn.neural_network import MLPRegressor\n",
    "from sklearn.metrics import mean_absolute_error, roc_auc_score, accuracy_score,\\\n",
    "precision_score, recall_score, f1_score, mean_squared_error, make_scorer, explained_variance_score, r2_score"
   ]
  },
  {
   "cell_type": "code",
   "execution_count": 4,
   "metadata": {},
   "outputs": [],
   "source": [
    "y = weather_df['RainfallTomorrow']\n",
    "X_temp = weather_df.drop(columns=['RainfallTomorrow']).select_dtypes(include=[float, int])\n",
    "X_scale = StandardScaler().fit(X_temp).transform(X_temp)\n",
    "X = pd.DataFrame(X_scale, index=X_temp.index, columns=X_temp.columns)\n",
    "\n",
    "categorical_df = weather_df.select_dtypes(exclude=[float,int])\n",
    "for col in categorical_df.columns:\n",
    "    temp_col = pd.get_dummies(categorical_df[col])\n",
    "    X = pd.merge(left=X, right=temp_col, left_index=True, right_index=True)\n",
    "X_train, X_test, y_train, y_test = train_test_split(X, y, test_size=0.2, random_state=123456, shuffle=True)"
   ]
  },
  {
   "cell_type": "code",
   "execution_count": 2,
   "metadata": {},
   "outputs": [
    {
     "name": "stdout",
     "output_type": "stream",
     "text": [
      "CV score for linear model using all features: 0.2295\n"
     ]
    }
   ],
   "source": [
    "# Build a simple linear model as a baseline\n",
    "from sklearn.linear_model import LinearRegression\n",
    "\n",
    "LR_model = LinearRegression()\n",
    "\n",
    "from sklearn.model_selection import cross_val_score\n",
    "r2_adj = 1 - ((1-cross_val_score(LR_model, X_train, y_train, cv=5).mean())*(X_train.shape[0]-1)/(X_train.shape[0]-X_train.shape[1]-1))\n",
    "print(f'CV score for linear model using all features: {r2_adj:.4f}')"
   ]
  },
  {
   "cell_type": "code",
   "execution_count": 3,
   "metadata": {},
   "outputs": [
    {
     "data": {
      "text/html": [
       "<div>\n",
       "<style scoped>\n",
       "    .dataframe tbody tr th:only-of-type {\n",
       "        vertical-align: middle;\n",
       "    }\n",
       "\n",
       "    .dataframe tbody tr th {\n",
       "        vertical-align: top;\n",
       "    }\n",
       "\n",
       "    .dataframe thead th {\n",
       "        text-align: right;\n",
       "    }\n",
       "</style>\n",
       "<table border=\"1\" class=\"dataframe\">\n",
       "  <thead>\n",
       "    <tr style=\"text-align: right;\">\n",
       "      <th></th>\n",
       "      <th>VIF</th>\n",
       "      <th>Tolerance</th>\n",
       "    </tr>\n",
       "  </thead>\n",
       "  <tbody>\n",
       "    <tr>\n",
       "      <th>Rainfall</th>\n",
       "      <td>2.108171</td>\n",
       "      <td>0.474345</td>\n",
       "    </tr>\n",
       "    <tr>\n",
       "      <th>Evaporation</th>\n",
       "      <td>2.599063</td>\n",
       "      <td>0.384754</td>\n",
       "    </tr>\n",
       "    <tr>\n",
       "      <th>WindGustSpeed</th>\n",
       "      <td>1.884081</td>\n",
       "      <td>0.530763</td>\n",
       "    </tr>\n",
       "    <tr>\n",
       "      <th>Humidity9am</th>\n",
       "      <td>3.613069</td>\n",
       "      <td>0.276773</td>\n",
       "    </tr>\n",
       "    <tr>\n",
       "      <th>Pressure9am</th>\n",
       "      <td>4.480954</td>\n",
       "      <td>0.223167</td>\n",
       "    </tr>\n",
       "    <tr>\n",
       "      <th>Cloud9am</th>\n",
       "      <td>2.396359</td>\n",
       "      <td>0.417300</td>\n",
       "    </tr>\n",
       "    <tr>\n",
       "      <th>AvgTemp</th>\n",
       "      <td>3.927525</td>\n",
       "      <td>0.254613</td>\n",
       "    </tr>\n",
       "    <tr>\n",
       "      <th>TempDiff</th>\n",
       "      <td>4.030618</td>\n",
       "      <td>0.248101</td>\n",
       "    </tr>\n",
       "    <tr>\n",
       "      <th>delta_Rainfall</th>\n",
       "      <td>1.712540</td>\n",
       "      <td>0.583928</td>\n",
       "    </tr>\n",
       "    <tr>\n",
       "      <th>delta_Evaporation</th>\n",
       "      <td>1.342036</td>\n",
       "      <td>0.745136</td>\n",
       "    </tr>\n",
       "    <tr>\n",
       "      <th>delta_WindGustSpeed</th>\n",
       "      <td>1.666539</td>\n",
       "      <td>0.600046</td>\n",
       "    </tr>\n",
       "    <tr>\n",
       "      <th>delta_Humidity9am</th>\n",
       "      <td>1.592285</td>\n",
       "      <td>0.628028</td>\n",
       "    </tr>\n",
       "    <tr>\n",
       "      <th>delta_Pressure9am</th>\n",
       "      <td>1.606759</td>\n",
       "      <td>0.622371</td>\n",
       "    </tr>\n",
       "    <tr>\n",
       "      <th>delta_Cloud9am</th>\n",
       "      <td>1.601640</td>\n",
       "      <td>0.624360</td>\n",
       "    </tr>\n",
       "    <tr>\n",
       "      <th>delta_AvgTemp</th>\n",
       "      <td>2.127837</td>\n",
       "      <td>0.469961</td>\n",
       "    </tr>\n",
       "    <tr>\n",
       "      <th>delta_TempDiff</th>\n",
       "      <td>1.554185</td>\n",
       "      <td>0.643424</td>\n",
       "    </tr>\n",
       "  </tbody>\n",
       "</table>\n",
       "</div>"
      ],
      "text/plain": [
       "                          VIF  Tolerance\n",
       "Rainfall             2.108171   0.474345\n",
       "Evaporation          2.599063   0.384754\n",
       "WindGustSpeed        1.884081   0.530763\n",
       "Humidity9am          3.613069   0.276773\n",
       "Pressure9am          4.480954   0.223167\n",
       "Cloud9am             2.396359   0.417300\n",
       "AvgTemp              3.927525   0.254613\n",
       "TempDiff             4.030618   0.248101\n",
       "delta_Rainfall       1.712540   0.583928\n",
       "delta_Evaporation    1.342036   0.745136\n",
       "delta_WindGustSpeed  1.666539   0.600046\n",
       "delta_Humidity9am    1.592285   0.628028\n",
       "delta_Pressure9am    1.606759   0.622371\n",
       "delta_Cloud9am       1.601640   0.624360\n",
       "delta_AvgTemp        2.127837   0.469961\n",
       "delta_TempDiff       1.554185   0.643424"
      ]
     },
     "execution_count": 3,
     "metadata": {},
     "output_type": "execute_result"
    }
   ],
   "source": [
    "def sklearn_vif(exogs, data):\n",
    "    # initialize dictionaries\n",
    "    vif_dict, tolerance_dict = {}, {}\n",
    "    # form input data for each exogenous variable\n",
    "    for exog in exogs:\n",
    "        not_exog = [i for i in exogs if i != exog]\n",
    "        X, y = data[not_exog], data[exog]\n",
    "        # extract r-squared from the fit\n",
    "        r_squared = LinearRegression().fit(X, y).score(X, y)\n",
    "        # calculate VIF\n",
    "        vif = 1/(1 - r_squared)\n",
    "        vif_dict[exog] = vif\n",
    "        # calculate tolerance\n",
    "        tolerance = 1 - r_squared\n",
    "        tolerance_dict[exog] = tolerance\n",
    "    # return VIF DataFrame\n",
    "    df_vif = pd.DataFrame({'VIF': vif_dict, 'Tolerance': tolerance_dict})\n",
    "    return df_vif\n",
    "\n",
    "vif_df = sklearn_vif(X_train.select_dtypes(include=['float']).columns, X_train)\n",
    "vif_df"
   ]
  },
  {
   "cell_type": "code",
   "execution_count": 7,
   "metadata": {},
   "outputs": [
    {
     "data": {
      "image/png": "[encoded data removed]",
      "text/plain": [
       "<Figure size 432x288 with 1 Axes>"
      ]
     },
     "metadata": {
      "needs_background": "light"
     },
     "output_type": "display_data"
    },
    {
     "name": "stdout",
     "output_type": "stream",
     "text": [
      "\n",
      "Max R^2 from LASSO: 0.24200273135560754\n"
     ]
    }
   ],
   "source": [
    "# Build a Lasso model\n",
    "from sklearn.linear_model import Lasso\n",
    "\n",
    "def RSS(y, y_pred):\n",
    "    return np.sum(np.square(y - y_pred))\n",
    "\n",
    "lasso_models = []\n",
    "lasso_accuracy = []\n",
    "alphas = np.linspace(0.001,0.1,500)\n",
    "for i, alpha in enumerate(alphas):\n",
    "    lasso_models.append(Lasso(alpha, max_iter=100000))\n",
    "    lasso_accuracy.append(cross_val_score(lasso_models[i], X_train, y_train, cv=5).mean())\n",
    "\n",
    "plt.plot(alphas, lasso_accuracy, '-')\n",
    "plt.title('Lambda vs. CV Score for LASSO')\n",
    "plt.xlabel('Lambda')\n",
    "plt.ylabel('CV Score')\n",
    "plt.show()\n",
    "\n",
    "print(f'\\nMax R^2 from LASSO: {max(lasso_accuracy)}')\n",
    "\n",
    "# min_model = np.argmax(lasso_accuracy)\n",
    "# print('Model coefficients:')\n",
    "# for i, j in zip(lasso_models[min_model].fit(X, y).coef_, X_train.columns):\n",
    "#     print(f'{j}: {i}')"
   ]
  },
  {
   "cell_type": "code",
   "execution_count": 12,
   "metadata": {},
   "outputs": [
    {
     "data": {
      "text/html": [
       "<div>\n",
       "<style scoped>\n",
       "    .dataframe tbody tr th:only-of-type {\n",
       "        vertical-align: middle;\n",
       "    }\n",
       "\n",
       "    .dataframe tbody tr th {\n",
       "        vertical-align: top;\n",
       "    }\n",
       "\n",
       "    .dataframe thead th {\n",
       "        text-align: right;\n",
       "    }\n",
       "</style>\n",
       "<table border=\"1\" class=\"dataframe\">\n",
       "  <thead>\n",
       "    <tr style=\"text-align: right;\">\n",
       "      <th></th>\n",
       "      <th>Rainfall</th>\n",
       "      <th>Evaporation</th>\n",
       "      <th>WindGustSpeed</th>\n",
       "      <th>Humidity9am</th>\n",
       "      <th>Pressure9am</th>\n",
       "      <th>Cloud9am</th>\n",
       "      <th>AvgTemp</th>\n",
       "      <th>TempDiff</th>\n",
       "      <th>delta_Rainfall</th>\n",
       "      <th>delta_Evaporation</th>\n",
       "      <th>...</th>\n",
       "      <th>NNW_y</th>\n",
       "      <th>S_y</th>\n",
       "      <th>SE_y</th>\n",
       "      <th>SSW_y</th>\n",
       "      <th>WNW_y</th>\n",
       "      <th>E</th>\n",
       "      <th>SW</th>\n",
       "      <th>WSW</th>\n",
       "      <th>0</th>\n",
       "      <th>1</th>\n",
       "    </tr>\n",
       "  </thead>\n",
       "  <tbody>\n",
       "    <tr>\n",
       "      <th>2372</th>\n",
       "      <td>-0.253874</td>\n",
       "      <td>-0.449469</td>\n",
       "      <td>-0.117899</td>\n",
       "      <td>-0.849037</td>\n",
       "      <td>2.071626</td>\n",
       "      <td>1.237571</td>\n",
       "      <td>-1.901077</td>\n",
       "      <td>-0.254759</td>\n",
       "      <td>-5.892748e-19</td>\n",
       "      <td>0.786721</td>\n",
       "      <td>...</td>\n",
       "      <td>0</td>\n",
       "      <td>0</td>\n",
       "      <td>0</td>\n",
       "      <td>0</td>\n",
       "      <td>0</td>\n",
       "      <td>0</td>\n",
       "      <td>0</td>\n",
       "      <td>0</td>\n",
       "      <td>1</td>\n",
       "      <td>0</td>\n",
       "    </tr>\n",
       "    <tr>\n",
       "      <th>7309</th>\n",
       "      <td>-0.253874</td>\n",
       "      <td>-0.874716</td>\n",
       "      <td>-0.517424</td>\n",
       "      <td>0.603330</td>\n",
       "      <td>-0.887212</td>\n",
       "      <td>-0.527415</td>\n",
       "      <td>0.823091</td>\n",
       "      <td>-0.254759</td>\n",
       "      <td>-1.841187e-01</td>\n",
       "      <td>-0.726338</td>\n",
       "      <td>...</td>\n",
       "      <td>0</td>\n",
       "      <td>0</td>\n",
       "      <td>0</td>\n",
       "      <td>0</td>\n",
       "      <td>0</td>\n",
       "      <td>0</td>\n",
       "      <td>0</td>\n",
       "      <td>0</td>\n",
       "      <td>1</td>\n",
       "      <td>0</td>\n",
       "    </tr>\n",
       "    <tr>\n",
       "      <th>6907</th>\n",
       "      <td>0.298470</td>\n",
       "      <td>-1.583460</td>\n",
       "      <td>-0.317661</td>\n",
       "      <td>0.911408</td>\n",
       "      <td>-1.598832</td>\n",
       "      <td>0.884574</td>\n",
       "      <td>0.613196</td>\n",
       "      <td>-0.473387</td>\n",
       "      <td>4.449536e-01</td>\n",
       "      <td>-1.210516</td>\n",
       "      <td>...</td>\n",
       "      <td>1</td>\n",
       "      <td>0</td>\n",
       "      <td>0</td>\n",
       "      <td>0</td>\n",
       "      <td>0</td>\n",
       "      <td>0</td>\n",
       "      <td>0</td>\n",
       "      <td>0</td>\n",
       "      <td>0</td>\n",
       "      <td>1</td>\n",
       "    </tr>\n",
       "    <tr>\n",
       "      <th>7021</th>\n",
       "      <td>-0.253874</td>\n",
       "      <td>-0.213221</td>\n",
       "      <td>-0.117899</td>\n",
       "      <td>-1.465192</td>\n",
       "      <td>0.255124</td>\n",
       "      <td>-1.233410</td>\n",
       "      <td>-0.418415</td>\n",
       "      <td>1.514142</td>\n",
       "      <td>-5.892748e-19</td>\n",
       "      <td>0.181497</td>\n",
       "      <td>...</td>\n",
       "      <td>0</td>\n",
       "      <td>0</td>\n",
       "      <td>1</td>\n",
       "      <td>0</td>\n",
       "      <td>0</td>\n",
       "      <td>0</td>\n",
       "      <td>0</td>\n",
       "      <td>0</td>\n",
       "      <td>1</td>\n",
       "      <td>0</td>\n",
       "    </tr>\n",
       "    <tr>\n",
       "      <th>514</th>\n",
       "      <td>-0.253874</td>\n",
       "      <td>-0.165971</td>\n",
       "      <td>-0.717186</td>\n",
       "      <td>0.163219</td>\n",
       "      <td>1.959265</td>\n",
       "      <td>-1.233410</td>\n",
       "      <td>-1.557207</td>\n",
       "      <td>0.421001</td>\n",
       "      <td>-5.892748e-19</td>\n",
       "      <td>0.181497</td>\n",
       "      <td>...</td>\n",
       "      <td>0</td>\n",
       "      <td>0</td>\n",
       "      <td>0</td>\n",
       "      <td>1</td>\n",
       "      <td>0</td>\n",
       "      <td>0</td>\n",
       "      <td>0</td>\n",
       "      <td>0</td>\n",
       "      <td>1</td>\n",
       "      <td>0</td>\n",
       "    </tr>\n",
       "    <tr>\n",
       "      <th>...</th>\n",
       "      <td>...</td>\n",
       "      <td>...</td>\n",
       "      <td>...</td>\n",
       "      <td>...</td>\n",
       "      <td>...</td>\n",
       "      <td>...</td>\n",
       "      <td>...</td>\n",
       "      <td>...</td>\n",
       "      <td>...</td>\n",
       "      <td>...</td>\n",
       "      <td>...</td>\n",
       "      <td>...</td>\n",
       "      <td>...</td>\n",
       "      <td>...</td>\n",
       "      <td>...</td>\n",
       "      <td>...</td>\n",
       "      <td>...</td>\n",
       "      <td>...</td>\n",
       "      <td>...</td>\n",
       "      <td>...</td>\n",
       "      <td>...</td>\n",
       "    </tr>\n",
       "    <tr>\n",
       "      <th>3642</th>\n",
       "      <td>-0.140156</td>\n",
       "      <td>-0.969215</td>\n",
       "      <td>-0.117899</td>\n",
       "      <td>1.307508</td>\n",
       "      <td>-1.205568</td>\n",
       "      <td>1.237571</td>\n",
       "      <td>0.581935</td>\n",
       "      <td>-1.188897</td>\n",
       "      <td>-1.994620e-01</td>\n",
       "      <td>0.060453</td>\n",
       "      <td>...</td>\n",
       "      <td>0</td>\n",
       "      <td>0</td>\n",
       "      <td>0</td>\n",
       "      <td>0</td>\n",
       "      <td>1</td>\n",
       "      <td>0</td>\n",
       "      <td>0</td>\n",
       "      <td>0</td>\n",
       "      <td>0</td>\n",
       "      <td>1</td>\n",
       "    </tr>\n",
       "    <tr>\n",
       "      <th>3123</th>\n",
       "      <td>-0.253874</td>\n",
       "      <td>-0.118722</td>\n",
       "      <td>-0.117899</td>\n",
       "      <td>0.339263</td>\n",
       "      <td>0.067856</td>\n",
       "      <td>0.178579</td>\n",
       "      <td>0.479221</td>\n",
       "      <td>-0.851018</td>\n",
       "      <td>-5.892748e-19</td>\n",
       "      <td>-0.181637</td>\n",
       "      <td>...</td>\n",
       "      <td>0</td>\n",
       "      <td>0</td>\n",
       "      <td>0</td>\n",
       "      <td>0</td>\n",
       "      <td>0</td>\n",
       "      <td>0</td>\n",
       "      <td>0</td>\n",
       "      <td>0</td>\n",
       "      <td>1</td>\n",
       "      <td>0</td>\n",
       "    </tr>\n",
       "    <tr>\n",
       "      <th>4596</th>\n",
       "      <td>-0.253874</td>\n",
       "      <td>-0.874716</td>\n",
       "      <td>1.180554</td>\n",
       "      <td>0.867397</td>\n",
       "      <td>-0.625037</td>\n",
       "      <td>0.884574</td>\n",
       "      <td>0.689116</td>\n",
       "      <td>-1.010020</td>\n",
       "      <td>-2.424230e+00</td>\n",
       "      <td>-2.723575</td>\n",
       "      <td>...</td>\n",
       "      <td>0</td>\n",
       "      <td>1</td>\n",
       "      <td>0</td>\n",
       "      <td>0</td>\n",
       "      <td>0</td>\n",
       "      <td>0</td>\n",
       "      <td>0</td>\n",
       "      <td>0</td>\n",
       "      <td>1</td>\n",
       "      <td>0</td>\n",
       "    </tr>\n",
       "    <tr>\n",
       "      <th>6893</th>\n",
       "      <td>4.717218</td>\n",
       "      <td>-0.118722</td>\n",
       "      <td>-0.916948</td>\n",
       "      <td>0.867397</td>\n",
       "      <td>-0.812305</td>\n",
       "      <td>-0.174418</td>\n",
       "      <td>0.778433</td>\n",
       "      <td>0.063246</td>\n",
       "      <td>4.035269e+00</td>\n",
       "      <td>0.242020</td>\n",
       "      <td>...</td>\n",
       "      <td>0</td>\n",
       "      <td>0</td>\n",
       "      <td>0</td>\n",
       "      <td>0</td>\n",
       "      <td>0</td>\n",
       "      <td>0</td>\n",
       "      <td>0</td>\n",
       "      <td>0</td>\n",
       "      <td>0</td>\n",
       "      <td>1</td>\n",
       "    </tr>\n",
       "    <tr>\n",
       "      <th>6211</th>\n",
       "      <td>-0.253874</td>\n",
       "      <td>-0.543968</td>\n",
       "      <td>0.281625</td>\n",
       "      <td>0.427286</td>\n",
       "      <td>0.105309</td>\n",
       "      <td>-0.174418</td>\n",
       "      <td>0.354177</td>\n",
       "      <td>-0.771516</td>\n",
       "      <td>-5.892748e-19</td>\n",
       "      <td>-0.363204</td>\n",
       "      <td>...</td>\n",
       "      <td>0</td>\n",
       "      <td>0</td>\n",
       "      <td>0</td>\n",
       "      <td>0</td>\n",
       "      <td>0</td>\n",
       "      <td>1</td>\n",
       "      <td>0</td>\n",
       "      <td>0</td>\n",
       "      <td>1</td>\n",
       "      <td>0</td>\n",
       "    </tr>\n",
       "  </tbody>\n",
       "</table>\n",
       "<p>6244 rows × 35 columns</p>\n",
       "</div>"
      ],
      "text/plain": [
       "      Rainfall  Evaporation  WindGustSpeed  Humidity9am  Pressure9am  \\\n",
       "2372 -0.253874    -0.449469      -0.117899    -0.849037     2.071626   \n",
       "7309 -0.253874    -0.874716      -0.517424     0.603330    -0.887212   \n",
       "6907  0.298470    -1.583460      -0.317661     0.911408    -1.598832   \n",
       "7021 -0.253874    -0.213221      -0.117899    -1.465192     0.255124   \n",
       "514  -0.253874    -0.165971      -0.717186     0.163219     1.959265   \n",
       "...        ...          ...            ...          ...          ...   \n",
       "3642 -0.140156    -0.969215      -0.117899     1.307508    -1.205568   \n",
       "3123 -0.253874    -0.118722      -0.117899     0.339263     0.067856   \n",
       "4596 -0.253874    -0.874716       1.180554     0.867397    -0.625037   \n",
       "6893  4.717218    -0.118722      -0.916948     0.867397    -0.812305   \n",
       "6211 -0.253874    -0.543968       0.281625     0.427286     0.105309   \n",
       "\n",
       "      Cloud9am   AvgTemp  TempDiff  delta_Rainfall  delta_Evaporation  ...  \\\n",
       "2372  1.237571 -1.901077 -0.254759   -5.892748e-19           0.786721  ...   \n",
       "7309 -0.527415  0.823091 -0.254759   -1.841187e-01          -0.726338  ...   \n",
       "6907  0.884574  0.613196 -0.473387    4.449536e-01          -1.210516  ...   \n",
       "7021 -1.233410 -0.418415  1.514142   -5.892748e-19           0.181497  ...   \n",
       "514  -1.233410 -1.557207  0.421001   -5.892748e-19           0.181497  ...   \n",
       "...        ...       ...       ...             ...                ...  ...   \n",
       "3642  1.237571  0.581935 -1.188897   -1.994620e-01           0.060453  ...   \n",
       "3123  0.178579  0.479221 -0.851018   -5.892748e-19          -0.181637  ...   \n",
       "4596  0.884574  0.689116 -1.010020   -2.424230e+00          -2.723575  ...   \n",
       "6893 -0.174418  0.778433  0.063246    4.035269e+00           0.242020  ...   \n",
       "6211 -0.174418  0.354177 -0.771516   -5.892748e-19          -0.363204  ...   \n",
       "\n",
       "      NNW_y  S_y  SE_y  SSW_y  WNW_y  E  SW  WSW  0  1  \n",
       "2372      0    0     0      0      0  0   0    0  1  0  \n",
       "7309      0    0     0      0      0  0   0    0  1  0  \n",
       "6907      1    0     0      0      0  0   0    0  0  1  \n",
       "7021      0    0     1      0      0  0   0    0  1  0  \n",
       "514       0    0     0      1      0  0   0    0  1  0  \n",
       "...     ...  ...   ...    ...    ... ..  ..  ... .. ..  \n",
       "3642      0    0     0      0      1  0   0    0  0  1  \n",
       "3123      0    0     0      0      0  0   0    0  1  0  \n",
       "4596      0    1     0      0      0  0   0    0  1  0  \n",
       "6893      0    0     0      0      0  0   0    0  0  1  \n",
       "6211      0    0     0      0      0  1   0    0  1  0  \n",
       "\n",
       "[6244 rows x 35 columns]"
      ]
     },
     "execution_count": 12,
     "metadata": {},
     "output_type": "execute_result"
    }
   ],
   "source": [
    "best_lasso = lasso_models[np.argmax(lasso_accuracy)].fit(X_train, y_train)\n",
    "lasso_vars = X_train.columns[best_lasso.coef_ != 0]\n",
    "lasso_vars = X_train[lasso_vars]\n",
    "lasso_vars"
   ]
  },
  {
   "cell_type": "code",
   "execution_count": 13,
   "metadata": {},
   "outputs": [
    {
     "name": "stdout",
     "output_type": "stream",
     "text": [
      "Adjust Lasso R^2: 0.2412735372539776\n"
     ]
    }
   ],
   "source": [
    "adj_lasso_r2 = 1-(((1-max(lasso_accuracy))*(X_train.shape[0]-1))/(X_train.shape[0]-6-1))\n",
    "print(f'Adjust Lasso R^2: {adj_lasso_r2}')"
   ]
  },
  {
   "cell_type": "code",
   "execution_count": 14,
   "metadata": {},
   "outputs": [
    {
     "name": "stdout",
     "output_type": "stream",
     "text": [
      "CV score for linear model using Lasso features: 0.2437\n"
     ]
    }
   ],
   "source": [
    "# Lin Model using Lasso variables\n",
    "best_lasso = np.argmax(lasso_accuracy)\n",
    "lasso_vars = X_train.columns[lasso_models[best_lasso].fit(X_train, y_train).coef_ != 0]\n",
    "\n",
    "reduced_X_train = X_train[lasso_vars]\n",
    "\n",
    "reduced_lin_model = LinearRegression()\n",
    "print(f'CV score for linear model using Lasso features: {cross_val_score(reduced_lin_model, reduced_X_train, y_train).mean():.4f}')"
   ]
  },
  {
   "cell_type": "code",
   "execution_count": 17,
   "metadata": {
    "scrolled": true
   },
   "outputs": [
    {
     "data": {
      "image/png": "[encoded data removed]",
      "text/plain": [
       "<Figure size 432x288 with 1 Axes>"
      ]
     },
     "metadata": {
      "needs_background": "light"
     },
     "output_type": "display_data"
    },
    {
     "name": "stdout",
     "output_type": "stream",
     "text": [
      "\n",
      "Max R^2 from Ridge: 0.24433929937964818\n"
     ]
    }
   ],
   "source": [
    "# Build ridge regression model\n",
    "from sklearn.linear_model import Ridge\n",
    "\n",
    "ridge_models = []\n",
    "ridge_accuracy = []\n",
    "alphas = np.linspace(0,1000,500)\n",
    "for i, alpha in enumerate(alphas):\n",
    "    ridge_models.append(Ridge(alpha, max_iter=100000))\n",
    "    ridge_accuracy.append(cross_val_score(ridge_models[i], X_train, y_train, cv=5).mean())\n",
    "\n",
    "plt.plot(alphas, ridge_accuracy, '-')\n",
    "plt.title('Lambda vs. CV Score for Ridge')\n",
    "plt.xlabel('Lambda')\n",
    "plt.ylabel('CV Score')\n",
    "plt.show()\n",
    "\n",
    "print(f'\\nMax R^2 from Ridge: {max(ridge_accuracy)}')"
   ]
  },
  {
   "cell_type": "code",
   "execution_count": 18,
   "metadata": {
    "scrolled": true
   },
   "outputs": [
    {
     "name": "stdout",
     "output_type": "stream",
     "text": [
      "Adjust Ridge R^2: 0.2358941117633857\n"
     ]
    }
   ],
   "source": [
    "adj_ridge_r2 = 1-(((1-max(ridge_accuracy))*(X_train.shape[0]-1))/(X_train.shape[0]-X_train.shape[1]))\n",
    "print(f'Adjust Ridge R^2: {adj_ridge_r2}')"
   ]
  },
  {
   "cell_type": "code",
   "execution_count": 22,
   "metadata": {
    "scrolled": true
   },
   "outputs": [
    {
     "data": {
      "image/png": "[encoded data removed]",
      "text/plain": [
       "<Figure size 432x288 with 1 Axes>"
      ]
     },
     "metadata": {
      "needs_background": "light"
     },
     "output_type": "display_data"
    },
    {
     "name": "stdout",
     "output_type": "stream",
     "text": [
      "\n",
      "Max R^2 from Elastic Net: 0.24345954680292525\n"
     ]
    }
   ],
   "source": [
    "# Build elastic net model\n",
    "from sklearn.linear_model import ElasticNet\n",
    "\n",
    "EN_models = []\n",
    "EN_accuracy = []\n",
    "alphas = np.linspace(0.01,1,100)\n",
    "for i, alpha in enumerate(alphas):\n",
    "    EN_models.append(ElasticNet(alpha, max_iter=100000))\n",
    "    EN_accuracy.append(cross_val_score(EN_models[i], X_train, y_train, cv=5).mean())\n",
    "\n",
    "plt.plot(alphas, EN_accuracy, '-')\n",
    "plt.title('Lambda vs. CV Score for EN')\n",
    "plt.xlabel('Lambda')\n",
    "plt.ylabel('CV Score')\n",
    "plt.show()\n",
    "\n",
    "print(f'\\nMax R^2 from Elastic Net: {max(EN_accuracy)}')"
   ]
  },
  {
   "cell_type": "code",
   "execution_count": 23,
   "metadata": {},
   "outputs": [
    {
     "data": {
      "text/plain": [
       "41"
      ]
     },
     "execution_count": 23,
     "metadata": {},
     "output_type": "execute_result"
    }
   ],
   "source": [
    "best_EN = EN_models[np.argmax(EN_accuracy)]\n",
    "np.sum(best_EN.fit(X_train, y_train).coef_ != 0)"
   ]
  },
  {
   "cell_type": "code",
   "execution_count": 24,
   "metadata": {},
   "outputs": [
    {
     "name": "stdout",
     "output_type": "stream",
     "text": [
      "Adjust EN R^2: 0.24188089096158305\n"
     ]
    }
   ],
   "source": [
    "adj_en_r2 = 1-(((1-max(EN_accuracy))*(X_train.shape[0]-1))/(X_train.shape[0]-13-1))\n",
    "print(f'Adjust EN R^2: {adj_en_r2}')"
   ]
  },
  {
   "cell_type": "code",
   "execution_count": 25,
   "metadata": {},
   "outputs": [],
   "source": [
    "# Build SVM Regression model\n",
    "from sklearn.svm import SVR\n",
    "\n",
    "init_svr_models = []\n",
    "init_svr_accuracy = []\n",
    "for i, kern in enumerate(['linear', 'poly', 'rbf', 'sigmoid', 'precomputed']):\n",
    "    if kern == 'poly':\n",
    "        for deg in [2,3,4]:\n",
    "            init_svr_models.append(SVR(kernel=kern, degree=deg, cache_size=1000))\n",
    "    else:\n",
    "        init_svr_models.append(SVR(kernel=kern, cache_size=1000))\n",
    "    init_svr_accuracy.append(cross_val_score(init_svr_models[i], X_train, y_train, cv=5).mean())\n"
   ]
  },
  {
   "cell_type": "code",
   "execution_count": 26,
   "metadata": {},
   "outputs": [
    {
     "name": "stdout",
     "output_type": "stream",
     "text": [
      "Best model before pX_train.shapearameter tuning: {'C': 1.0, 'cache_size': 1000, 'coef0': 0.0, 'degree': 2, 'epsilon': 0.1, 'gamma': 'scale', 'kernel': 'poly', 'max_iter': -1, 'shrinking': True, 'tol': 0.001, 'verbose': False}\n"
     ]
    }
   ],
   "source": [
    "min_model = np.argmax(init_svr_accuracy)\n",
    "print(f'Best model before pX_train.shapearameter tuning: {init_svr_models[min_model].get_params()}')"
   ]
  },
  {
   "cell_type": "code",
   "execution_count": 27,
   "metadata": {},
   "outputs": [
    {
     "name": "stdout",
     "output_type": "stream",
     "text": [
      "Max R^2 from SVR: 0.20336502230776218\n"
     ]
    }
   ],
   "source": [
    "#gammas = np.linspace(0.03, 0.1, 10)\n",
    "# for gam in gammas:\n",
    "#     svr_model = SVR(kernel='rbf', gamma=gam)\n",
    "#     print(f'CV for gamma={gam} and RBF: {cross_val_score(svr_model, X_train, y_train).mean()}')\n",
    "\n",
    "# for gam in gammas:\n",
    "#     svr_model = SVR(kernel='poly', degree=2, gamma=gam)\n",
    "#     print(f'CV for gamma={gam} and poly: {cross_val_score(svr_model, X_train, y_train).mean()}')\n",
    "\n",
    "svr_model = SVR(kernel='poly', degree=2, gamma=0.09)\n",
    "svr_r2 = cross_val_score(svr_model, X_train, y_train).mean()\n",
    "print(f'Max R^2 from SVR: {svr_r2}')"
   ]
  },
  {
   "cell_type": "code",
   "execution_count": 28,
   "metadata": {},
   "outputs": [
    {
     "name": "stdout",
     "output_type": "stream",
     "text": [
      "Adjust SVR R^2: 0.19433141653448227\n"
     ]
    }
   ],
   "source": [
    "adj_svr_r2 = 1-(((1-svr_r2)*(X_train.shape[0]-1))/(X_train.shape[0]-X_train.shape[1]-1))\n",
    "print(f'Adjust SVR R^2: {adj_svr_r2}')"
   ]
  },
  {
   "cell_type": "code",
   "execution_count": 29,
   "metadata": {
    "scrolled": true
   },
   "outputs": [
    {
     "data": {
      "image/png": "[encoded data removed]",
      "text/plain": [
       "<Figure size 432x288 with 1 Axes>"
      ]
     },
     "metadata": {
      "needs_background": "light"
     },
     "output_type": "display_data"
    }
   ],
   "source": [
    "# Build a random forest model\n",
    "from sklearn.ensemble import RandomForestRegressor\n",
    "\n",
    "trees = np.linspace(50, 450, 50).astype(int)\n",
    "RF_models = []\n",
    "RF_accuracy = []\n",
    "\n",
    "for i, tree in enumerate(trees):\n",
    "    RF_models.append(RandomForestRegressor(n_estimators=tree, oob_score=True, n_jobs=-1, random_state=456789))\n",
    "    RF_accuracy.append(RF_models[i].fit(X_train, y_train).oob_score_)\n",
    "    \n",
    "plt.plot(trees, RF_accuracy, '-')\n",
    "plt.title('Trees vs. OOB Score for Rand. Forest')\n",
    "plt.xlabel('Trees')\n",
    "plt.ylabel('Score')\n",
    "plt.show()"
   ]
  },
  {
   "cell_type": "code",
   "execution_count": 37,
   "metadata": {
    "scrolled": true
   },
   "outputs": [
    {
     "name": "stdout",
     "output_type": "stream",
     "text": [
      "Max R^2 from Random Forest, using OOB: 0.3511556297070373\n",
      "Best performing # of trees: 368\n",
      "Adjust Rand Forest R^2: 0.34379792584821534\n"
     ]
    }
   ],
   "source": [
    "print(f'Max R^2 from Random Forest, using OOB: {np.max(RF_accuracy)}')\n",
    "print(f'Best performing # of trees: {RF_models[np.argmax(RF_accuracy)].n_estimators}')\n",
    "adj_rf_r2 = 1-(((1-np.max(RF_accuracy))*(X_train.shape[0]-1))/(X_train.shape[0]-X_train.shape[1]-1))\n",
    "print(f'Adjust Rand Forest R^2: {adj_rf_r2}')"
   ]
  },
  {
   "cell_type": "code",
   "execution_count": 34,
   "metadata": {},
   "outputs": [],
   "source": [
    "lasso_vars = X_train[lasso_vars]"
   ]
  },
  {
   "cell_type": "code",
   "execution_count": 35,
   "metadata": {},
   "outputs": [
    {
     "data": {
      "image/png": "[encoded data removed]",
      "text/plain": [
       "<Figure size 432x288 with 1 Axes>"
      ]
     },
     "metadata": {
      "needs_background": "light"
     },
     "output_type": "display_data"
    }
   ],
   "source": [
    "# Build a random forest model\n",
    "from sklearn.ensemble import RandomForestRegressor\n",
    "\n",
    "trees = np.linspace(75, 275, 100).astype(int)\n",
    "lRF_models = []\n",
    "lRF_accuracy = []\n",
    "\n",
    "for i, tree in enumerate(trees):\n",
    "    lRF_models.append(RandomForestRegressor(n_estimators=tree, oob_score=True, n_jobs=-1, random_state=456789))\n",
    "    lRF_accuracy.append(lRF_models[i].fit(lasso_vars, y_train).oob_score_)\n",
    "    \n",
    "plt.plot(trees, lRF_accuracy, '-')\n",
    "plt.title('Trees vs. OOB Score for Rand. Forest')\n",
    "plt.xlabel('Trees')\n",
    "plt.ylabel('Score')\n",
    "plt.show()"
   ]
  },
  {
   "cell_type": "code",
   "execution_count": 36,
   "metadata": {},
   "outputs": [
    {
     "name": "stdout",
     "output_type": "stream",
     "text": [
      "Max R^2 from Random Forest, using OOB: 0.3438734255042638\n",
      "Best performing # of trees: 260\n",
      "Adjust Rand Forest R^2: 0.34017425828336323\n"
     ]
    }
   ],
   "source": [
    "# Lasso\n",
    "print(f'Max R^2 from Random Forest, using OOB: {np.max(lRF_accuracy)}')\n",
    "print(f'Best performing # of trees: {lRF_models[np.argmax(lRF_accuracy)].n_estimators}')\n",
    "adj_lrf_r2 = 1-(((1-np.max(lRF_accuracy))*(lasso_vars.shape[0]-1))/(lasso_vars.shape[0]-lasso_vars.shape[1]-1))\n",
    "print(f'Adjust Rand Forest R^2: {adj_lrf_r2}')"
   ]
  },
  {
   "cell_type": "code",
   "execution_count": 38,
   "metadata": {
    "scrolled": true
   },
   "outputs": [
    {
     "name": "stdout",
     "output_type": "stream",
     "text": [
      "For max_features=1, OOB score=0.3069560363356797\n",
      "For max_features=0.5, OOB score=0.3567073161801415\n",
      "For max_features=log2, OOB score=0.35563585672195397\n",
      "For max_features=sqrt, OOB score=0.36359074186124596\n",
      "For max_features=auto, OOB score=0.3511556297070373\n"
     ]
    }
   ],
   "source": [
    "for q in [1,0.5,'log2','sqrt','auto']:\n",
    "    temp_rf_model = RandomForestRegressor(n_estimators=368, oob_score=True, n_jobs=-1, max_features=q, random_state=456789).fit(X_train, y_train)\n",
    "    print(f'For max_features={q}, OOB score={temp_rf_model.oob_score_}')\n",
    "    "
   ]
  },
  {
   "cell_type": "code",
   "execution_count": 39,
   "metadata": {},
   "outputs": [
    {
     "name": "stdout",
     "output_type": "stream",
     "text": [
      "Adjust Rand Forest R^2: 0.3563740485079797\n"
     ]
    }
   ],
   "source": [
    "best_rf = RandomForestRegressor(n_estimators=368, oob_score=True, n_jobs=-1, max_features='sqrt', random_state=456789).fit(X_train, y_train)\n",
    "adj_rf_r2 = 1-(((1-best_rf.oob_score_)*(X_train.shape[0]-1))/(X_train.shape[0]-X_train.shape[1]-1))\n",
    "print(f'Adjust Rand Forest R^2: {adj_rf_r2}')"
   ]
  },
  {
   "cell_type": "code",
   "execution_count": 40,
   "metadata": {},
   "outputs": [
    {
     "ename": "NameError",
     "evalue": "name 'sns' is not defined",
     "output_type": "error",
     "traceback": [
      "\u001b[1;31m---------------------------------------------------------------------------\u001b[0m",
      "\u001b[1;31mNameError\u001b[0m                                 Traceback (most recent call last)",
      "\u001b[1;32m<ipython-input-40-d78f72f328e6>\u001b[0m in \u001b[0;36m<module>\u001b[1;34m\u001b[0m\n\u001b[0;32m      3\u001b[0m \u001b[0mfull_data\u001b[0m \u001b[1;33m=\u001b[0m \u001b[0mpd\u001b[0m\u001b[1;33m.\u001b[0m\u001b[0mmerge\u001b[0m\u001b[1;33m(\u001b[0m\u001b[0mleft\u001b[0m\u001b[1;33m=\u001b[0m\u001b[0mX\u001b[0m\u001b[1;33m,\u001b[0m \u001b[0mright\u001b[0m\u001b[1;33m=\u001b[0m\u001b[0my\u001b[0m\u001b[1;33m,\u001b[0m \u001b[0mleft_index\u001b[0m\u001b[1;33m=\u001b[0m\u001b[1;32mTrue\u001b[0m\u001b[1;33m,\u001b[0m \u001b[0mright_index\u001b[0m\u001b[1;33m=\u001b[0m\u001b[1;32mTrue\u001b[0m\u001b[1;33m)\u001b[0m\u001b[1;33m\u001b[0m\u001b[1;33m\u001b[0m\u001b[0m\n\u001b[0;32m      4\u001b[0m \u001b[1;33m\u001b[0m\u001b[0m\n\u001b[1;32m----> 5\u001b[1;33m \u001b[0msns_plot\u001b[0m \u001b[1;33m=\u001b[0m \u001b[0msns\u001b[0m\u001b[1;33m.\u001b[0m\u001b[0mpairplot\u001b[0m\u001b[1;33m(\u001b[0m\u001b[0mfull_data\u001b[0m\u001b[1;33m,\u001b[0m \u001b[0mheight\u001b[0m\u001b[1;33m=\u001b[0m\u001b[1;36m2.0\u001b[0m\u001b[1;33m)\u001b[0m\u001b[1;33m\u001b[0m\u001b[1;33m\u001b[0m\u001b[0m\n\u001b[0m\u001b[0;32m      6\u001b[0m \u001b[0msns_plot\u001b[0m\u001b[1;33m.\u001b[0m\u001b[0msavefig\u001b[0m\u001b[1;33m(\u001b[0m\u001b[1;34m\"pairplot.png\"\u001b[0m\u001b[1;33m)\u001b[0m\u001b[1;33m\u001b[0m\u001b[1;33m\u001b[0m\u001b[0m\n\u001b[0;32m      7\u001b[0m \u001b[1;33m\u001b[0m\u001b[0m\n",
      "\u001b[1;31mNameError\u001b[0m: name 'sns' is not defined"
     ]
    }
   ],
   "source": [
    "from IPython.display import Image\n",
    "\n",
    "full_data = pd.merge(left=X, right=y, left_index=True, right_index=True)\n",
    "\n",
    "sns_plot = sns.pairplot(full_data, height=2.0)\n",
    "sns_plot.savefig(\"pairplot.png\")\n",
    "\n",
    "plt.clf() # Clean parirplot figure from sns \n",
    "Image(filename='pairplot.png') # Show pairplot as image"
   ]
  },
  {
   "cell_type": "code",
   "execution_count": 41,
   "metadata": {},
   "outputs": [
    {
     "name": "stderr",
     "output_type": "stream",
     "text": [
      "E:\\Anaconda\\Anaconda\\lib\\site-packages\\sklearn\\neural_network\\_multilayer_perceptron.py:619: UserWarning: Training interrupted by user.\n",
      "  warnings.warn(\"Training interrupted by user.\")\n",
      "E:\\Anaconda\\Anaconda\\lib\\site-packages\\sklearn\\neural_network\\_multilayer_perceptron.py:619: UserWarning: Training interrupted by user.\n",
      "  warnings.warn(\"Training interrupted by user.\")\n",
      "E:\\Anaconda\\Anaconda\\lib\\site-packages\\sklearn\\neural_network\\_multilayer_perceptron.py:619: UserWarning: Training interrupted by user.\n",
      "  warnings.warn(\"Training interrupted by user.\")\n",
      "E:\\Anaconda\\Anaconda\\lib\\site-packages\\sklearn\\neural_network\\_multilayer_perceptron.py:619: UserWarning: Training interrupted by user.\n",
      "  warnings.warn(\"Training interrupted by user.\")\n",
      "E:\\Anaconda\\Anaconda\\lib\\site-packages\\sklearn\\neural_network\\_multilayer_perceptron.py:619: UserWarning: Training interrupted by user.\n",
      "  warnings.warn(\"Training interrupted by user.\")\n",
      "ERROR:root:Internal Python error in the inspect module.\n",
      "Below is the traceback from this internal error.\n",
      "\n"
     ]
    },
    {
     "name": "stdout",
     "output_type": "stream",
     "text": [
      "Neural Net score: -0.04859875449891371"
     ]
    },
    {
     "name": "stderr",
     "output_type": "stream",
     "text": [
      "\n",
      "KeyboardInterrupt\n",
      "\n"
     ]
    }
   ],
   "source": [
    "# https://stats.stackexchange.com/questions/181/how-to-choose-the-number-of-hidden-layers-and-nodes-in-a-feedforward-neural-netw\n",
    "# Link above says that the large majority of NN's perform just as well with 1 layer as with multiple, and that\n",
    "# the optimal number of nodes is almost always somewhere between the number of inputs (72) and the number of outputs (1)\n",
    "# layers = np.linspace(26, 45, 20).astype(int)\n",
    "# nn_models = []\n",
    "# nn_accuracy = []\n",
    "# for i, layer in enumerate(layers):\n",
    "#     nn_models.append(MLPRegressor(hidden_layer_sizes=layer, max_iter=20000))\n",
    "#     nn_accuracy.append(cross_val_score(nn_models[i], X_train, y_train))\n",
    "\n",
    "nn_model = MLPRegressor(hidden_layer_sizes = 36, max_iter=20000)\n",
    "print(f'Neural Net score: {cross_val_score(nn_model, X_train, y_train, cv=5).mean()}')"
   ]
  },
  {
   "cell_type": "code",
   "execution_count": 6,
   "metadata": {},
   "outputs": [
    {
     "name": "stdout",
     "output_type": "stream",
     "text": [
      "relu+adam+3done\n",
      "relu+adam+5done\n",
      "relu+adam+8done\n",
      "relu+adam+10done\n",
      "relu+adam+25done\n",
      "relu+sgd+3done\n",
      "relu+sgd+5done\n",
      "relu+sgd+8done\n",
      "relu+sgd+10done\n",
      "relu+sgd+25done\n",
      "relu+lbfgs+3done\n",
      "relu+lbfgs+5done\n",
      "relu+lbfgs+8done\n",
      "relu+lbfgs+10done\n"
     ]
    },
    {
     "name": "stderr",
     "output_type": "stream",
     "text": [
      "E:\\Anaconda\\Anaconda\\lib\\site-packages\\sklearn\\neural_network\\_multilayer_perceptron.py:500: ConvergenceWarning: lbfgs failed to converge (status=1):\n",
      "STOP: TOTAL NO. of ITERATIONS REACHED LIMIT.\n",
      "\n",
      "Increase the number of iterations (max_iter) or scale the data as shown in:\n",
      "    https://scikit-learn.org/stable/modules/preprocessing.html\n",
      "  self.n_iter_ = _check_optimize_result(\"lbfgs\", opt_res, self.max_iter)\n"
     ]
    },
    {
     "name": "stdout",
     "output_type": "stream",
     "text": [
      "relu+lbfgs+25done\n",
      "logistic+adam+3done\n",
      "logistic+adam+5done\n",
      "logistic+adam+8done\n"
     ]
    },
    {
     "name": "stderr",
     "output_type": "stream",
     "text": [
      "E:\\Anaconda\\Anaconda\\lib\\site-packages\\sklearn\\neural_network\\_multilayer_perceptron.py:617: ConvergenceWarning: Stochastic Optimizer: Maximum iterations (10000) reached and the optimization hasn't converged yet.\n",
      "  % self.max_iter, ConvergenceWarning)\n"
     ]
    },
    {
     "name": "stdout",
     "output_type": "stream",
     "text": [
      "logistic+adam+10done\n",
      "logistic+adam+25done\n",
      "logistic+sgd+3done\n",
      "logistic+sgd+5done\n",
      "logistic+sgd+8done\n",
      "logistic+sgd+10done\n",
      "logistic+sgd+25done\n",
      "logistic+lbfgs+3done\n"
     ]
    },
    {
     "name": "stderr",
     "output_type": "stream",
     "text": [
      "E:\\Anaconda\\Anaconda\\lib\\site-packages\\sklearn\\neural_network\\_multilayer_perceptron.py:500: ConvergenceWarning: lbfgs failed to converge (status=1):\n",
      "STOP: TOTAL NO. of ITERATIONS REACHED LIMIT.\n",
      "\n",
      "Increase the number of iterations (max_iter) or scale the data as shown in:\n",
      "    https://scikit-learn.org/stable/modules/preprocessing.html\n",
      "  self.n_iter_ = _check_optimize_result(\"lbfgs\", opt_res, self.max_iter)\n"
     ]
    },
    {
     "name": "stdout",
     "output_type": "stream",
     "text": [
      "logistic+lbfgs+5done\n",
      "logistic+lbfgs+8done\n",
      "logistic+lbfgs+10done\n"
     ]
    },
    {
     "name": "stderr",
     "output_type": "stream",
     "text": [
      "E:\\Anaconda\\Anaconda\\lib\\site-packages\\sklearn\\neural_network\\_multilayer_perceptron.py:500: ConvergenceWarning: lbfgs failed to converge (status=1):\n",
      "STOP: TOTAL NO. of ITERATIONS REACHED LIMIT.\n",
      "\n",
      "Increase the number of iterations (max_iter) or scale the data as shown in:\n",
      "    https://scikit-learn.org/stable/modules/preprocessing.html\n",
      "  self.n_iter_ = _check_optimize_result(\"lbfgs\", opt_res, self.max_iter)\n"
     ]
    },
    {
     "name": "stdout",
     "output_type": "stream",
     "text": [
      "logistic+lbfgs+25done\n",
      "tanh+adam+3done\n",
      "tanh+adam+5done\n",
      "tanh+adam+8done\n",
      "tanh+adam+10done\n",
      "tanh+adam+25done\n",
      "tanh+sgd+3done\n",
      "tanh+sgd+5done\n",
      "tanh+sgd+8done\n",
      "tanh+sgd+10done\n",
      "tanh+sgd+25done\n",
      "tanh+lbfgs+3done\n"
     ]
    },
    {
     "name": "stderr",
     "output_type": "stream",
     "text": [
      "E:\\Anaconda\\Anaconda\\lib\\site-packages\\sklearn\\neural_network\\_multilayer_perceptron.py:500: ConvergenceWarning: lbfgs failed to converge (status=1):\n",
      "STOP: TOTAL NO. of ITERATIONS REACHED LIMIT.\n",
      "\n",
      "Increase the number of iterations (max_iter) or scale the data as shown in:\n",
      "    https://scikit-learn.org/stable/modules/preprocessing.html\n",
      "  self.n_iter_ = _check_optimize_result(\"lbfgs\", opt_res, self.max_iter)\n"
     ]
    },
    {
     "name": "stdout",
     "output_type": "stream",
     "text": [
      "tanh+lbfgs+5done\n"
     ]
    },
    {
     "name": "stderr",
     "output_type": "stream",
     "text": [
      "E:\\Anaconda\\Anaconda\\lib\\site-packages\\sklearn\\neural_network\\_multilayer_perceptron.py:500: ConvergenceWarning: lbfgs failed to converge (status=1):\n",
      "STOP: TOTAL NO. of ITERATIONS REACHED LIMIT.\n",
      "\n",
      "Increase the number of iterations (max_iter) or scale the data as shown in:\n",
      "    https://scikit-learn.org/stable/modules/preprocessing.html\n",
      "  self.n_iter_ = _check_optimize_result(\"lbfgs\", opt_res, self.max_iter)\n"
     ]
    },
    {
     "name": "stdout",
     "output_type": "stream",
     "text": [
      "tanh+lbfgs+8done\n"
     ]
    },
    {
     "name": "stderr",
     "output_type": "stream",
     "text": [
      "E:\\Anaconda\\Anaconda\\lib\\site-packages\\sklearn\\neural_network\\_multilayer_perceptron.py:500: ConvergenceWarning: lbfgs failed to converge (status=1):\n",
      "STOP: TOTAL NO. of ITERATIONS REACHED LIMIT.\n",
      "\n",
      "Increase the number of iterations (max_iter) or scale the data as shown in:\n",
      "    https://scikit-learn.org/stable/modules/preprocessing.html\n",
      "  self.n_iter_ = _check_optimize_result(\"lbfgs\", opt_res, self.max_iter)\n"
     ]
    },
    {
     "name": "stdout",
     "output_type": "stream",
     "text": [
      "tanh+lbfgs+10done\n",
      "tanh+lbfgs+25done\n"
     ]
    },
    {
     "name": "stderr",
     "output_type": "stream",
     "text": [
      "E:\\Anaconda\\Anaconda\\lib\\site-packages\\sklearn\\neural_network\\_multilayer_perceptron.py:500: ConvergenceWarning: lbfgs failed to converge (status=1):\n",
      "STOP: TOTAL NO. of ITERATIONS REACHED LIMIT.\n",
      "\n",
      "Increase the number of iterations (max_iter) or scale the data as shown in:\n",
      "    https://scikit-learn.org/stable/modules/preprocessing.html\n",
      "  self.n_iter_ = _check_optimize_result(\"lbfgs\", opt_res, self.max_iter)\n"
     ]
    }
   ],
   "source": [
    "activations = ['relu', 'logistic', 'tanh']\n",
    "solvers = ['adam', 'sgd', 'lbfgs']\n",
    "layer_sizes = [3,5,8,10,25]\n",
    "\n",
    "nn_models = []\n",
    "nn_losses = []\n",
    "\n",
    "for act in activations:\n",
    "    for solve in solvers:\n",
    "        for size in layer_sizes:\n",
    "            nn_model = MLPRegressor(hidden_layer_sizes=size, activation=act, solver=solve, learning_rate='adaptive', max_iter=10000)\n",
    "            nn_model.fit(X_train, y_train)\n",
    "            nn_loss = nn_model.loss_\n",
    "            nn_losses.append(nn_loss)\n",
    "            nn_models.append(str(act) + '+' + str(solve) + '+' + str(size))\n",
    "            print(str(act) + '+' + str(solve) + '+' + str(size) + 'done')"
   ]
  },
  {
   "cell_type": "code",
   "execution_count": 8,
   "metadata": {},
   "outputs": [
    {
     "data": {
      "text/html": [
       "<div>\n",
       "<style scoped>\n",
       "    .dataframe tbody tr th:only-of-type {\n",
       "        vertical-align: middle;\n",
       "    }\n",
       "\n",
       "    .dataframe tbody tr th {\n",
       "        vertical-align: top;\n",
       "    }\n",
       "\n",
       "    .dataframe thead th {\n",
       "        text-align: right;\n",
       "    }\n",
       "</style>\n",
       "<table border=\"1\" class=\"dataframe\">\n",
       "  <thead>\n",
       "    <tr style=\"text-align: right;\">\n",
       "      <th></th>\n",
       "      <th>Model</th>\n",
       "      <th>Loss</th>\n",
       "    </tr>\n",
       "  </thead>\n",
       "  <tbody>\n",
       "    <tr>\n",
       "      <th>0</th>\n",
       "      <td>relu+adam+3</td>\n",
       "      <td>30.841324</td>\n",
       "    </tr>\n",
       "    <tr>\n",
       "      <th>1</th>\n",
       "      <td>relu+adam+5</td>\n",
       "      <td>36.488166</td>\n",
       "    </tr>\n",
       "    <tr>\n",
       "      <th>2</th>\n",
       "      <td>relu+adam+8</td>\n",
       "      <td>32.276632</td>\n",
       "    </tr>\n",
       "    <tr>\n",
       "      <th>3</th>\n",
       "      <td>relu+adam+10</td>\n",
       "      <td>22.406670</td>\n",
       "    </tr>\n",
       "    <tr>\n",
       "      <th>4</th>\n",
       "      <td>relu+adam+25</td>\n",
       "      <td>9.747979</td>\n",
       "    </tr>\n",
       "    <tr>\n",
       "      <th>5</th>\n",
       "      <td>relu+sgd+3</td>\n",
       "      <td>42.417066</td>\n",
       "    </tr>\n",
       "    <tr>\n",
       "      <th>6</th>\n",
       "      <td>relu+sgd+5</td>\n",
       "      <td>37.458806</td>\n",
       "    </tr>\n",
       "    <tr>\n",
       "      <th>7</th>\n",
       "      <td>relu+sgd+8</td>\n",
       "      <td>36.704163</td>\n",
       "    </tr>\n",
       "    <tr>\n",
       "      <th>8</th>\n",
       "      <td>relu+sgd+10</td>\n",
       "      <td>26.933932</td>\n",
       "    </tr>\n",
       "    <tr>\n",
       "      <th>9</th>\n",
       "      <td>relu+sgd+25</td>\n",
       "      <td>23.167569</td>\n",
       "    </tr>\n",
       "    <tr>\n",
       "      <th>10</th>\n",
       "      <td>relu+lbfgs+3</td>\n",
       "      <td>24.697531</td>\n",
       "    </tr>\n",
       "    <tr>\n",
       "      <th>11</th>\n",
       "      <td>relu+lbfgs+5</td>\n",
       "      <td>22.633692</td>\n",
       "    </tr>\n",
       "    <tr>\n",
       "      <th>12</th>\n",
       "      <td>relu+lbfgs+8</td>\n",
       "      <td>15.892642</td>\n",
       "    </tr>\n",
       "    <tr>\n",
       "      <th>13</th>\n",
       "      <td>relu+lbfgs+10</td>\n",
       "      <td>15.845902</td>\n",
       "    </tr>\n",
       "    <tr>\n",
       "      <th>14</th>\n",
       "      <td>relu+lbfgs+25</td>\n",
       "      <td>3.106742</td>\n",
       "    </tr>\n",
       "    <tr>\n",
       "      <th>15</th>\n",
       "      <td>logistic+adam+3</td>\n",
       "      <td>34.461969</td>\n",
       "    </tr>\n",
       "    <tr>\n",
       "      <th>16</th>\n",
       "      <td>logistic+adam+5</td>\n",
       "      <td>27.282839</td>\n",
       "    </tr>\n",
       "    <tr>\n",
       "      <th>17</th>\n",
       "      <td>logistic+adam+8</td>\n",
       "      <td>20.869487</td>\n",
       "    </tr>\n",
       "    <tr>\n",
       "      <th>18</th>\n",
       "      <td>logistic+adam+10</td>\n",
       "      <td>17.904401</td>\n",
       "    </tr>\n",
       "    <tr>\n",
       "      <th>19</th>\n",
       "      <td>logistic+adam+25</td>\n",
       "      <td>8.276933</td>\n",
       "    </tr>\n",
       "    <tr>\n",
       "      <th>20</th>\n",
       "      <td>logistic+sgd+3</td>\n",
       "      <td>39.530804</td>\n",
       "    </tr>\n",
       "    <tr>\n",
       "      <th>21</th>\n",
       "      <td>logistic+sgd+5</td>\n",
       "      <td>29.281396</td>\n",
       "    </tr>\n",
       "    <tr>\n",
       "      <th>22</th>\n",
       "      <td>logistic+sgd+8</td>\n",
       "      <td>27.754944</td>\n",
       "    </tr>\n",
       "    <tr>\n",
       "      <th>23</th>\n",
       "      <td>logistic+sgd+10</td>\n",
       "      <td>30.132524</td>\n",
       "    </tr>\n",
       "    <tr>\n",
       "      <th>24</th>\n",
       "      <td>logistic+sgd+25</td>\n",
       "      <td>9.300030</td>\n",
       "    </tr>\n",
       "    <tr>\n",
       "      <th>25</th>\n",
       "      <td>logistic+lbfgs+3</td>\n",
       "      <td>33.386124</td>\n",
       "    </tr>\n",
       "    <tr>\n",
       "      <th>26</th>\n",
       "      <td>logistic+lbfgs+5</td>\n",
       "      <td>25.508491</td>\n",
       "    </tr>\n",
       "    <tr>\n",
       "      <th>27</th>\n",
       "      <td>logistic+lbfgs+8</td>\n",
       "      <td>25.484272</td>\n",
       "    </tr>\n",
       "    <tr>\n",
       "      <th>28</th>\n",
       "      <td>logistic+lbfgs+10</td>\n",
       "      <td>23.738709</td>\n",
       "    </tr>\n",
       "    <tr>\n",
       "      <th>29</th>\n",
       "      <td>logistic+lbfgs+25</td>\n",
       "      <td>9.563077</td>\n",
       "    </tr>\n",
       "    <tr>\n",
       "      <th>30</th>\n",
       "      <td>tanh+adam+3</td>\n",
       "      <td>38.676804</td>\n",
       "    </tr>\n",
       "    <tr>\n",
       "      <th>31</th>\n",
       "      <td>tanh+adam+5</td>\n",
       "      <td>30.932106</td>\n",
       "    </tr>\n",
       "    <tr>\n",
       "      <th>32</th>\n",
       "      <td>tanh+adam+8</td>\n",
       "      <td>20.891890</td>\n",
       "    </tr>\n",
       "    <tr>\n",
       "      <th>33</th>\n",
       "      <td>tanh+adam+10</td>\n",
       "      <td>19.628922</td>\n",
       "    </tr>\n",
       "    <tr>\n",
       "      <th>34</th>\n",
       "      <td>tanh+adam+25</td>\n",
       "      <td>5.713038</td>\n",
       "    </tr>\n",
       "    <tr>\n",
       "      <th>35</th>\n",
       "      <td>tanh+sgd+3</td>\n",
       "      <td>41.784350</td>\n",
       "    </tr>\n",
       "    <tr>\n",
       "      <th>36</th>\n",
       "      <td>tanh+sgd+5</td>\n",
       "      <td>34.263437</td>\n",
       "    </tr>\n",
       "    <tr>\n",
       "      <th>37</th>\n",
       "      <td>tanh+sgd+8</td>\n",
       "      <td>30.960294</td>\n",
       "    </tr>\n",
       "    <tr>\n",
       "      <th>38</th>\n",
       "      <td>tanh+sgd+10</td>\n",
       "      <td>22.861182</td>\n",
       "    </tr>\n",
       "    <tr>\n",
       "      <th>39</th>\n",
       "      <td>tanh+sgd+25</td>\n",
       "      <td>15.062552</td>\n",
       "    </tr>\n",
       "    <tr>\n",
       "      <th>40</th>\n",
       "      <td>tanh+lbfgs+3</td>\n",
       "      <td>33.392858</td>\n",
       "    </tr>\n",
       "    <tr>\n",
       "      <th>41</th>\n",
       "      <td>tanh+lbfgs+5</td>\n",
       "      <td>26.576497</td>\n",
       "    </tr>\n",
       "    <tr>\n",
       "      <th>42</th>\n",
       "      <td>tanh+lbfgs+8</td>\n",
       "      <td>25.219146</td>\n",
       "    </tr>\n",
       "    <tr>\n",
       "      <th>43</th>\n",
       "      <td>tanh+lbfgs+10</td>\n",
       "      <td>22.863697</td>\n",
       "    </tr>\n",
       "    <tr>\n",
       "      <th>44</th>\n",
       "      <td>tanh+lbfgs+25</td>\n",
       "      <td>6.038316</td>\n",
       "    </tr>\n",
       "  </tbody>\n",
       "</table>\n",
       "</div>"
      ],
      "text/plain": [
       "                Model       Loss\n",
       "0         relu+adam+3  30.841324\n",
       "1         relu+adam+5  36.488166\n",
       "2         relu+adam+8  32.276632\n",
       "3        relu+adam+10  22.406670\n",
       "4        relu+adam+25   9.747979\n",
       "5          relu+sgd+3  42.417066\n",
       "6          relu+sgd+5  37.458806\n",
       "7          relu+sgd+8  36.704163\n",
       "8         relu+sgd+10  26.933932\n",
       "9         relu+sgd+25  23.167569\n",
       "10       relu+lbfgs+3  24.697531\n",
       "11       relu+lbfgs+5  22.633692\n",
       "12       relu+lbfgs+8  15.892642\n",
       "13      relu+lbfgs+10  15.845902\n",
       "14      relu+lbfgs+25   3.106742\n",
       "15    logistic+adam+3  34.461969\n",
       "16    logistic+adam+5  27.282839\n",
       "17    logistic+adam+8  20.869487\n",
       "18   logistic+adam+10  17.904401\n",
       "19   logistic+adam+25   8.276933\n",
       "20     logistic+sgd+3  39.530804\n",
       "21     logistic+sgd+5  29.281396\n",
       "22     logistic+sgd+8  27.754944\n",
       "23    logistic+sgd+10  30.132524\n",
       "24    logistic+sgd+25   9.300030\n",
       "25   logistic+lbfgs+3  33.386124\n",
       "26   logistic+lbfgs+5  25.508491\n",
       "27   logistic+lbfgs+8  25.484272\n",
       "28  logistic+lbfgs+10  23.738709\n",
       "29  logistic+lbfgs+25   9.563077\n",
       "30        tanh+adam+3  38.676804\n",
       "31        tanh+adam+5  30.932106\n",
       "32        tanh+adam+8  20.891890\n",
       "33       tanh+adam+10  19.628922\n",
       "34       tanh+adam+25   5.713038\n",
       "35         tanh+sgd+3  41.784350\n",
       "36         tanh+sgd+5  34.263437\n",
       "37         tanh+sgd+8  30.960294\n",
       "38        tanh+sgd+10  22.861182\n",
       "39        tanh+sgd+25  15.062552\n",
       "40       tanh+lbfgs+3  33.392858\n",
       "41       tanh+lbfgs+5  26.576497\n",
       "42       tanh+lbfgs+8  25.219146\n",
       "43      tanh+lbfgs+10  22.863697\n",
       "44      tanh+lbfgs+25   6.038316"
      ]
     },
     "execution_count": 8,
     "metadata": {},
     "output_type": "execute_result"
    }
   ],
   "source": [
    "nn_results = pd.DataFrame({'Model': nn_models, 'Loss': nn_losses})\n",
    "nn_results"
   ]
  },
  {
   "cell_type": "code",
   "execution_count": 10,
   "metadata": {},
   "outputs": [
    {
     "data": {
      "text/plain": [
       "14"
      ]
     },
     "execution_count": 10,
     "metadata": {},
     "output_type": "execute_result"
    }
   ],
   "source": [
    "np.argmin(nn_results['Loss'])"
   ]
  },
  {
   "cell_type": "code",
   "execution_count": 11,
   "metadata": {},
   "outputs": [
    {
     "name": "stderr",
     "output_type": "stream",
     "text": [
      "E:\\Anaconda\\Anaconda\\lib\\site-packages\\sklearn\\neural_network\\_multilayer_perceptron.py:500: ConvergenceWarning: lbfgs failed to converge (status=1):\n",
      "STOP: TOTAL NO. of ITERATIONS REACHED LIMIT.\n",
      "\n",
      "Increase the number of iterations (max_iter) or scale the data as shown in:\n",
      "    https://scikit-learn.org/stable/modules/preprocessing.html\n",
      "  self.n_iter_ = _check_optimize_result(\"lbfgs\", opt_res, self.max_iter)\n"
     ]
    },
    {
     "data": {
      "text/plain": [
       "0.40673190331619774"
      ]
     },
     "execution_count": 11,
     "metadata": {},
     "output_type": "execute_result"
    }
   ],
   "source": [
    "nn_model = MLPRegressor(hidden_layer_sizes=50, activation='relu', solver='lbfgs', learning_rate='adaptive', max_iter=10000)\n",
    "nn_model.fit(X_train,y_train)\n",
    "nn_model.loss_"
   ]
  },
  {
   "cell_type": "code",
   "execution_count": 24,
   "metadata": {},
   "outputs": [
    {
     "name": "stderr",
     "output_type": "stream",
     "text": [
      "E:\\Anaconda\\Anaconda\\lib\\site-packages\\sklearn\\neural_network\\_multilayer_perceptron.py:500: ConvergenceWarning: lbfgs failed to converge (status=1):\n",
      "STOP: TOTAL NO. of f AND g EVALUATIONS EXCEEDS LIMIT.\n",
      "\n",
      "Increase the number of iterations (max_iter) or scale the data as shown in:\n",
      "    https://scikit-learn.org/stable/modules/preprocessing.html\n",
      "  self.n_iter_ = _check_optimize_result(\"lbfgs\", opt_res, self.max_iter)\n",
      "E:\\Anaconda\\Anaconda\\lib\\site-packages\\sklearn\\neural_network\\_multilayer_perceptron.py:500: ConvergenceWarning: lbfgs failed to converge (status=1):\n",
      "STOP: TOTAL NO. of f AND g EVALUATIONS EXCEEDS LIMIT.\n",
      "\n",
      "Increase the number of iterations (max_iter) or scale the data as shown in:\n",
      "    https://scikit-learn.org/stable/modules/preprocessing.html\n",
      "  self.n_iter_ = _check_optimize_result(\"lbfgs\", opt_res, self.max_iter)\n",
      "E:\\Anaconda\\Anaconda\\lib\\site-packages\\sklearn\\neural_network\\_multilayer_perceptron.py:500: ConvergenceWarning: lbfgs failed to converge (status=1):\n",
      "STOP: TOTAL NO. of f AND g EVALUATIONS EXCEEDS LIMIT.\n",
      "\n",
      "Increase the number of iterations (max_iter) or scale the data as shown in:\n",
      "    https://scikit-learn.org/stable/modules/preprocessing.html\n",
      "  self.n_iter_ = _check_optimize_result(\"lbfgs\", opt_res, self.max_iter)\n"
     ]
    },
    {
     "name": "stdout",
     "output_type": "stream",
     "text": [
      "Neural Net score: -2.8416228522550657\n"
     ]
    }
   ],
   "source": [
    "nn_model = MLPRegressor(hidden_layer_sizes = 50, activation='relu', solver='lbfgs', learning_rate='adaptive', max_iter=20000)\n",
    "nn_r2 = cross_val_score(nn_model, X_train, y_train, cv=5, scoring='r2').mean()\n",
    "nn_adj_r2 = 1 - ((1-nn_r2)*(X_train.shape[0]-1)/(X_train.shape[0]-X_train.shape[1]-1))\n",
    "print(f'Neural Net score: {nn_adj_r2}')"
   ]
  },
  {
   "cell_type": "code",
   "execution_count": 25,
   "metadata": {
    "scrolled": false
   },
   "outputs": [
    {
     "name": "stderr",
     "output_type": "stream",
     "text": [
      "E:\\Anaconda\\Anaconda\\lib\\site-packages\\sklearn\\neural_network\\_multilayer_perceptron.py:500: ConvergenceWarning: lbfgs failed to converge (status=1):\n",
      "STOP: TOTAL NO. of ITERATIONS REACHED LIMIT.\n",
      "\n",
      "Increase the number of iterations (max_iter) or scale the data as shown in:\n",
      "    https://scikit-learn.org/stable/modules/preprocessing.html\n",
      "  self.n_iter_ = _check_optimize_result(\"lbfgs\", opt_res, self.max_iter)\n",
      "E:\\Anaconda\\Anaconda\\lib\\site-packages\\sklearn\\neural_network\\_multilayer_perceptron.py:500: ConvergenceWarning: lbfgs failed to converge (status=1):\n",
      "STOP: TOTAL NO. of ITERATIONS REACHED LIMIT.\n",
      "\n",
      "Increase the number of iterations (max_iter) or scale the data as shown in:\n",
      "    https://scikit-learn.org/stable/modules/preprocessing.html\n",
      "  self.n_iter_ = _check_optimize_result(\"lbfgs\", opt_res, self.max_iter)\n",
      "E:\\Anaconda\\Anaconda\\lib\\site-packages\\sklearn\\neural_network\\_multilayer_perceptron.py:500: ConvergenceWarning: lbfgs failed to converge (status=1):\n",
      "STOP: TOTAL NO. of ITERATIONS REACHED LIMIT.\n",
      "\n",
      "Increase the number of iterations (max_iter) or scale the data as shown in:\n",
      "    https://scikit-learn.org/stable/modules/preprocessing.html\n",
      "  self.n_iter_ = _check_optimize_result(\"lbfgs\", opt_res, self.max_iter)\n",
      "E:\\Anaconda\\Anaconda\\lib\\site-packages\\sklearn\\neural_network\\_multilayer_perceptron.py:500: ConvergenceWarning: lbfgs failed to converge (status=1):\n",
      "STOP: TOTAL NO. of ITERATIONS REACHED LIMIT.\n",
      "\n",
      "Increase the number of iterations (max_iter) or scale the data as shown in:\n",
      "    https://scikit-learn.org/stable/modules/preprocessing.html\n",
      "  self.n_iter_ = _check_optimize_result(\"lbfgs\", opt_res, self.max_iter)\n"
     ]
    },
    {
     "name": "stdout",
     "output_type": "stream",
     "text": [
      "Neural Net score: -3.729503338373566\n"
     ]
    }
   ],
   "source": [
    "nn_model = MLPRegressor(hidden_layer_sizes = 25, activation='relu', solver='lbfgs', learning_rate='adaptive', max_iter=10000)\n",
    "nn_r2 = cross_val_score(nn_model, X_train, y_train, cv=5, scoring='r2').mean()\n",
    "nn_adj_r2 = 1 - ((1-nn_r2)*(X_train.shape[0]-1)/(X_train.shape[0]-X_train.shape[1]-1))\n",
    "print(f'Neural Net score: {nn_adj_r2}')"
   ]
  },
  {
   "cell_type": "code",
   "execution_count": 26,
   "metadata": {},
   "outputs": [
    {
     "name": "stderr",
     "output_type": "stream",
     "text": [
      "E:\\Anaconda\\Anaconda\\lib\\site-packages\\sklearn\\neural_network\\_multilayer_perceptron.py:500: ConvergenceWarning: lbfgs failed to converge (status=1):\n",
      "STOP: TOTAL NO. of f AND g EVALUATIONS EXCEEDS LIMIT.\n",
      "\n",
      "Increase the number of iterations (max_iter) or scale the data as shown in:\n",
      "    https://scikit-learn.org/stable/modules/preprocessing.html\n",
      "  self.n_iter_ = _check_optimize_result(\"lbfgs\", opt_res, self.max_iter)\n",
      "E:\\Anaconda\\Anaconda\\lib\\site-packages\\sklearn\\neural_network\\_multilayer_perceptron.py:500: ConvergenceWarning: lbfgs failed to converge (status=1):\n",
      "STOP: TOTAL NO. of f AND g EVALUATIONS EXCEEDS LIMIT.\n",
      "\n",
      "Increase the number of iterations (max_iter) or scale the data as shown in:\n",
      "    https://scikit-learn.org/stable/modules/preprocessing.html\n",
      "  self.n_iter_ = _check_optimize_result(\"lbfgs\", opt_res, self.max_iter)\n",
      "E:\\Anaconda\\Anaconda\\lib\\site-packages\\sklearn\\neural_network\\_multilayer_perceptron.py:500: ConvergenceWarning: lbfgs failed to converge (status=1):\n",
      "STOP: TOTAL NO. of f AND g EVALUATIONS EXCEEDS LIMIT.\n",
      "\n",
      "Increase the number of iterations (max_iter) or scale the data as shown in:\n",
      "    https://scikit-learn.org/stable/modules/preprocessing.html\n",
      "  self.n_iter_ = _check_optimize_result(\"lbfgs\", opt_res, self.max_iter)\n"
     ]
    },
    {
     "name": "stdout",
     "output_type": "stream",
     "text": [
      "Neural Net score: -4.50290415537259\n"
     ]
    },
    {
     "name": "stderr",
     "output_type": "stream",
     "text": [
      "E:\\Anaconda\\Anaconda\\lib\\site-packages\\sklearn\\neural_network\\_multilayer_perceptron.py:500: ConvergenceWarning: lbfgs failed to converge (status=1):\n",
      "STOP: TOTAL NO. of f AND g EVALUATIONS EXCEEDS LIMIT.\n",
      "\n",
      "Increase the number of iterations (max_iter) or scale the data as shown in:\n",
      "    https://scikit-learn.org/stable/modules/preprocessing.html\n",
      "  self.n_iter_ = _check_optimize_result(\"lbfgs\", opt_res, self.max_iter)\n"
     ]
    }
   ],
   "source": [
    "nn_model = MLPRegressor(hidden_layer_sizes = 25, activation='relu', solver='lbfgs', learning_rate='adaptive', max_iter=50000)\n",
    "nn_r2 = cross_val_score(nn_model, X_train, y_train, cv=5, scoring='r2').mean()\n",
    "nn_adj_r2 = 1 - ((1-nn_r2)*(X_train.shape[0]-1)/(X_train.shape[0]-X_train.shape[1]-1))\n",
    "print(f'Neural Net score: {nn_adj_r2}')"
   ]
  },
  {
   "cell_type": "code",
   "execution_count": 28,
   "metadata": {},
   "outputs": [
    {
     "name": "stderr",
     "output_type": "stream",
     "text": [
      "E:\\Anaconda\\Anaconda\\lib\\site-packages\\sklearn\\neural_network\\_multilayer_perceptron.py:500: ConvergenceWarning: lbfgs failed to converge (status=1):\n",
      "STOP: TOTAL NO. of f AND g EVALUATIONS EXCEEDS LIMIT.\n",
      "\n",
      "Increase the number of iterations (max_iter) or scale the data as shown in:\n",
      "    https://scikit-learn.org/stable/modules/preprocessing.html\n",
      "  self.n_iter_ = _check_optimize_result(\"lbfgs\", opt_res, self.max_iter)\n"
     ]
    },
    {
     "name": "stdout",
     "output_type": "stream",
     "text": [
      "Neural Net score: -1.03058982354852\n"
     ]
    }
   ],
   "source": [
    "nn_model = MLPRegressor(hidden_layer_sizes = 10, activation='relu', solver='lbfgs', learning_rate='adaptive', max_iter=100000)\n",
    "nn_r2 = cross_val_score(nn_model, X_train, y_train, cv=5, scoring='r2').mean()\n",
    "nn_adj_r2 = 1 - ((1-nn_r2)*(X_train.shape[0]-1)/(X_train.shape[0]-X_train.shape[1]-1))\n",
    "print(f'Neural Net score: {nn_adj_r2}')"
   ]
  },
  {
   "cell_type": "code",
   "execution_count": 29,
   "metadata": {},
   "outputs": [
    {
     "name": "stdout",
     "output_type": "stream",
     "text": [
      "Neural Net score: -1.2122559588012325\n"
     ]
    }
   ],
   "source": [
    "nn_model = MLPRegressor(hidden_layer_sizes = 8, activation='relu', solver='lbfgs', learning_rate='adaptive', max_iter=100000)\n",
    "nn_r2 = cross_val_score(nn_model, X_train, y_train, cv=5, scoring='r2').mean()\n",
    "nn_adj_r2 = 1 - ((1-nn_r2)*(X_train.shape[0]-1)/(X_train.shape[0]-X_train.shape[1]-1))\n",
    "print(f'Neural Net score: {nn_adj_r2}')"
   ]
  },
  {
   "cell_type": "code",
   "execution_count": 30,
   "metadata": {},
   "outputs": [
    {
     "name": "stdout",
     "output_type": "stream",
     "text": [
      "Neural Net score: 0.17358635836335534\n"
     ]
    }
   ],
   "source": [
    "nn_model = MLPRegressor(hidden_layer_sizes = 10, activation='relu', solver='sgd', learning_rate='adaptive', max_iter=100000)\n",
    "nn_r2 = cross_val_score(nn_model, X_train, y_train, cv=5, scoring='r2').mean()\n",
    "nn_adj_r2 = 1 - ((1-nn_r2)*(X_train.shape[0]-1)/(X_train.shape[0]-X_train.shape[1]-1))\n",
    "print(f'Neural Net score: {nn_adj_r2}')"
   ]
  },
  {
   "cell_type": "code",
   "execution_count": 33,
   "metadata": {},
   "outputs": [
    {
     "name": "stdout",
     "output_type": "stream",
     "text": [
      "Neural Net score: 0.039789112453718634\n"
     ]
    }
   ],
   "source": [
    "nn_model = MLPRegressor(hidden_layer_sizes = 25, activation='relu', solver='sgd', learning_rate='adaptive', max_iter=100000)\n",
    "nn_r2 = cross_val_score(nn_model, X_train, y_train, cv=5, scoring='r2').mean()\n",
    "nn_adj_r2 = 1 - ((1-nn_r2)*(X_train.shape[0]-1)/(X_train.shape[0]-X_train.shape[1]-1))\n",
    "print(f'Neural Net score: {nn_adj_r2}')"
   ]
  },
  {
   "cell_type": "code",
   "execution_count": 35,
   "metadata": {},
   "outputs": [
    {
     "name": "stdout",
     "output_type": "stream",
     "text": [
      "24 -0.02517431477670873\n",
      "23 -0.04971600289051126\n",
      "22 -0.026492955714756405\n",
      "21 -0.11586298812620299\n",
      "20 0.1237508106158961\n",
      "19 -0.07697818907229936\n",
      "18 -0.028698051081304854\n",
      "17 -0.046091324757186136\n",
      "16 0.17483414494588612\n",
      "15 0.05914729803347529\n",
      "14 0.04142655408810292\n",
      "13 0.17711507469695142\n",
      "12 0.07535831147494942\n",
      "11 0.13133088236426915\n",
      "10 0.08064527529536936\n",
      "9 0.15710329899889441\n",
      "8 0.15107428121821598\n",
      "7 0.18877168180202186\n",
      "6 0.222203821795543\n",
      "5 0.18952341362822567\n",
      "4 0.238894855562092\n",
      "3 0.25192520066839663\n",
      "2 0.18760390808836014\n",
      "1 0.24780098735606815\n"
     ]
    }
   ],
   "source": [
    "sizes = []\n",
    "scores = []\n",
    "\n",
    "for size in range(24,0,-1):\n",
    "    nn_model = MLPRegressor(hidden_layer_sizes = size, activation='relu', solver='sgd', learning_rate='adaptive', max_iter=100000)\n",
    "    nn_r2 = cross_val_score(nn_model, X_train, y_train, cv=5, scoring='r2').mean()\n",
    "    nn_adj_r2 = 1 - ((1-nn_r2)*(X_train.shape[0]-1)/(X_train.shape[0]-X_train.shape[1]-1))\n",
    "    sizes.append(size)\n",
    "    scores.append(nn_adj_r2)\n",
    "    print(size, nn_adj_r2)"
   ]
  },
  {
   "cell_type": "code",
   "execution_count": 40,
   "metadata": {},
   "outputs": [
    {
     "data": {
      "text/plain": [
       "Text(0, 0.5, 'Score')"
      ]
     },
     "execution_count": 40,
     "metadata": {},
     "output_type": "execute_result"
    },
    {
     "data": {
      "image/png": "[encoded data removed]",
      "text/plain": [
       "<Figure size 432x288 with 1 Axes>"
      ]
     },
     "metadata": {
      "needs_background": "light"
     },
     "output_type": "display_data"
    }
   ],
   "source": [
    "plt.plot(sizes[::-1], scores[::-1])\n",
    "plt.title('Number of Hidden Layers vs. CV Score for MLP Regressor')\n",
    "plt.xlabel('Number of Hidden Layers')\n",
    "plt.ylabel('Score')"
   ]
  },
  {
   "cell_type": "code",
   "execution_count": 34,
   "metadata": {},
   "outputs": [
    {
     "name": "stdout",
     "output_type": "stream",
     "text": [
      "Neural Net score: -0.0908269520166991\n"
     ]
    }
   ],
   "source": [
    "nn_model = MLPRegressor(hidden_layer_sizes = 25, activation='logistic', solver='sgd', learning_rate='adaptive', max_iter=100000)\n",
    "nn_r2 = cross_val_score(nn_model, X_train, y_train, cv=5, scoring='r2').mean()\n",
    "nn_adj_r2 = 1 - ((1-nn_r2)*(X_train.shape[0]-1)/(X_train.shape[0]-X_train.shape[1]-1))\n",
    "print(f'Neural Net score: {nn_adj_r2}')"
   ]
  },
  {
   "cell_type": "code",
   "execution_count": 32,
   "metadata": {},
   "outputs": [
    {
     "name": "stdout",
     "output_type": "stream",
     "text": [
      "Neural Net score: -0.3757786829961587\n"
     ]
    }
   ],
   "source": [
    "nn_model = MLPRegressor(hidden_layer_sizes = 25, activation='relu', solver='adam', learning_rate='adaptive', max_iter=100000)\n",
    "nn_r2 = cross_val_score(nn_model, X_train, y_train, cv=5, scoring='r2').mean()\n",
    "nn_adj_r2 = 1 - ((1-nn_r2)*(X_train.shape[0]-1)/(X_train.shape[0]-X_train.shape[1]-1))\n",
    "print(f'Neural Net score: {nn_adj_r2}')"
   ]
  },
  {
   "cell_type": "code",
   "execution_count": 31,
   "metadata": {},
   "outputs": [
    {
     "name": "stdout",
     "output_type": "stream",
     "text": [
      "Neural Net score: -0.12821777207444662\n"
     ]
    }
   ],
   "source": [
    "nn_model = MLPRegressor(hidden_layer_sizes = 25, activation='tanh', solver='sgd', learning_rate='adaptive', max_iter=100000)\n",
    "nn_r2 = cross_val_score(nn_model, X_train, y_train, cv=5, scoring='r2').mean()\n",
    "nn_adj_r2 = 1 - ((1-nn_r2)*(X_train.shape[0]-1)/(X_train.shape[0]-X_train.shape[1]-1))\n",
    "print(f'Neural Net score: {nn_adj_r2}')"
   ]
  },
  {
   "cell_type": "code",
   "execution_count": null,
   "metadata": {
    "scrolled": true
   },
   "outputs": [],
   "source": [
    "from sklearn.ensemble import AdaBoostRegressor\n",
    "\n",
    "AB_model = AdaBoostRegressor()\n",
    "print(f'AdaBoost Score: {cross_val_score(AB_model, X_train, y_train).mean()}')\n",
    "\n"
   ]
  },
  {
   "cell_type": "markdown",
   "metadata": {},
   "source": [
    "## Best model score from above: Random Forest w/ adjusted r^2 of 0.373"
   ]
  },
  {
   "cell_type": "code",
   "execution_count": null,
   "metadata": {
    "scrolled": true
   },
   "outputs": [],
   "source": [
    "# def mean_absolute_percentage_error(y_true, y_pred):\n",
    "#     denom = np.where(abs(y_true)<0.0000001,0.0000001, abs(y_true))\n",
    "#     error_sum = (abs(y_true - y_pred)/denom).sum()\n",
    "#     return error_sum/len(y_true)\n",
    "\n",
    "# def root_mean_squared_error(y_true, y_pred):\n",
    "#     return mean_squared_error(y_true, y_pred, squared=False)\n",
    "    \n",
    "MAE = make_scorer(mean_absolute_error)#, greater_is_better=False)\n",
    "MAPE = make_scorer(mean_absolute_percentage_error)#, greater_is_better=False)\n",
    "RMSE = make_scorer(root_mean_squared_error)#, greater_is_better=False)\n",
    "MSE = make_scorer(mean_squared_error)#, greater_is_better=False)\n",
    "exp_var = make_scorer(explained_variance_score)#, greater_is_better=False)\n",
    "r_squared = make_scorer(r2_score)#, greater_is_better=False)\n",
    "RF_r2 = cross_val_score(best_rf, X_test, y_test, scoring=r_squared).mean()\n",
    "\n",
    "print(f'MAE using 5-fold CV: {cross_val_score(best_rf, X_test, y_test, scoring=MAE).mean()}')\n",
    "# print(f'MAPE using 5-fold CV: {cross_val_score(best_rf, X_test, y_test, scoring=MAPE).mean()}')\n",
    "# print(f'RMSE using 5-fold CV: {cross_val_score(best_rf, X_test, y_test, scoring=RMSE).mean()}')\n",
    "print(f'MSE using 5-fold CV: {cross_val_score(best_rf, X_test, y_test, scoring=MSE).mean()}')\n",
    "print(f'R^2 using 5-fold CV: {RF_r2}')\n",
    "print(f'Explained Variance using 5-fold CV: {cross_val_score(best_rf, X_test, y_test, scoring=exp_var).mean()}')\n",
    "# print(f'PM using 5-fold CV: {1-RF_r2}')"
   ]
  },
  {
   "cell_type": "code",
   "execution_count": null,
   "metadata": {},
   "outputs": [],
   "source": []
  }
 ],
 "metadata": {
  "hide_input": false,
  "kernelspec": {
   "display_name": "Python 3",
   "language": "python",
   "name": "python3"
  },
  "language_info": {
   "codemirror_mode": {
    "name": "ipython",
    "version": 3
   },
   "file_extension": ".py",
   "mimetype": "text/x-python",
   "name": "python",
   "nbconvert_exporter": "python",
   "pygments_lexer": "ipython3",
   "version": "3.7.9"
  },
  "latex_envs": {
   "LaTeX_envs_menu_present": true,
   "autoclose": false,
   "autocomplete": true,
   "bibliofile": "biblio.bib",
   "cite_by": "apalike",
   "current_citInitial": 1,
   "eqLabelWithNumbers": true,
   "eqNumInitial": 1,
   "hotkeys": {
    "equation": "Ctrl-E",
    "itemize": "Ctrl-I"
   },
   "labels_anchors": false,
   "latex_user_defs": false,
   "report_style_numbering": false,
   "user_envs_cfg": false
  }
 },
 "nbformat": 4,
 "nbformat_minor": 4
}
